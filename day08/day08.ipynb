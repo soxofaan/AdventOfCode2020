{
 "cells": [
  {
   "cell_type": "markdown",
   "metadata": {},
   "source": [
    "# Part 1"
   ]
  },
  {
   "cell_type": "code",
   "execution_count": 1,
   "metadata": {},
   "outputs": [
    {
     "data": {
      "text/plain": [
       "\u001b[36minstructions\u001b[39m: \u001b[32mList\u001b[39m[\u001b[32mString\u001b[39m] = \u001b[33mList\u001b[39m(\n",
       "  \u001b[32m\"jmp +336\"\u001b[39m,\n",
       "  \u001b[32m\"jmp +593\"\u001b[39m,\n",
       "  \u001b[32m\"jmp +121\"\u001b[39m,\n",
       "  \u001b[32m\"acc -8\"\u001b[39m,\n",
       "  \u001b[32m\"nop +459\"\u001b[39m,\n",
       "  \u001b[32m\"jmp +451\"\u001b[39m,\n",
       "  \u001b[32m\"acc -6\"\u001b[39m,\n",
       "  \u001b[32m\"acc +23\"\u001b[39m,\n",
       "  \u001b[32m\"acc +23\"\u001b[39m,\n",
       "  \u001b[32m\"acc -2\"\u001b[39m,\n",
       "  \u001b[32m\"jmp +113\"\u001b[39m,\n",
       "  \u001b[32m\"acc -11\"\u001b[39m,\n",
       "  \u001b[32m\"acc +25\"\u001b[39m,\n",
       "  \u001b[32m\"jmp +529\"\u001b[39m,\n",
       "  \u001b[32m\"acc +0\"\u001b[39m,\n",
       "  \u001b[32m\"jmp +1\"\u001b[39m,\n",
       "  \u001b[32m\"jmp +313\"\u001b[39m,\n",
       "  \u001b[32m\"acc +30\"\u001b[39m,\n",
       "  \u001b[32m\"nop +235\"\u001b[39m,\n",
       "  \u001b[32m\"jmp +45\"\u001b[39m,\n",
       "  \u001b[32m\"nop +195\"\u001b[39m,\n",
       "  \u001b[32m\"acc -11\"\u001b[39m,\n",
       "  \u001b[32m\"jmp +491\"\u001b[39m,\n",
       "  \u001b[32m\"acc +6\"\u001b[39m,\n",
       "  \u001b[32m\"nop +425\"\u001b[39m,\n",
       "  \u001b[32m\"nop +68\"\u001b[39m,\n",
       "  \u001b[32m\"acc +9\"\u001b[39m,\n",
       "  \u001b[32m\"jmp -25\"\u001b[39m,\n",
       "  \u001b[32m\"jmp +507\"\u001b[39m,\n",
       "  \u001b[32m\"jmp +456\"\u001b[39m,\n",
       "  \u001b[32m\"acc -1\"\u001b[39m,\n",
       "  \u001b[32m\"acc +49\"\u001b[39m,\n",
       "  \u001b[32m\"acc +5\"\u001b[39m,\n",
       "  \u001b[32m\"jmp +31\"\u001b[39m,\n",
       "  \u001b[32m\"acc +30\"\u001b[39m,\n",
       "  \u001b[32m\"nop +513\"\u001b[39m,\n",
       "  \u001b[32m\"jmp +499\"\u001b[39m,\n",
       "  \u001b[32m\"nop +533\"\u001b[39m,\n",
       "...\n",
       "\u001b[36mres0_1\u001b[39m: \u001b[32mInt\u001b[39m = \u001b[32m628\u001b[39m"
      ]
     },
     "execution_count": 1,
     "metadata": {},
     "output_type": "execute_result"
    }
   ],
   "source": [
    "val instructions = io.Source.fromFile(\"input\").getLines.toList\n",
    "\n",
    "instructions.size"
   ]
  },
  {
   "cell_type": "code",
   "execution_count": 2,
   "metadata": {},
   "outputs": [
    {
     "data": {
      "text/html": [
       "<div class=\"jp-RenderedText\">\n",
       "<pre><code><span style=\"color: rgb(0, 187, 187)\"><span class=\"ansi-cyan-fg\">pointer</span></span>: <span style=\"color: rgb(0, 187, 0)\"><span class=\"ansi-green-fg\">Int</span></span> = <span style=\"color: rgb(0, 187, 0)\"><span class=\"ansi-green-fg\">603</span></span>\n",
       "<span style=\"color: rgb(0, 187, 187)\"><span class=\"ansi-cyan-fg\">accumulator</span></span>: <span style=\"color: rgb(0, 187, 0)\"><span class=\"ansi-green-fg\">Int</span></span> = <span style=\"color: rgb(0, 187, 0)\"><span class=\"ansi-green-fg\">1766</span></span>\n",
       "<span style=\"color: rgb(0, 187, 187)\"><span class=\"ansi-cyan-fg\">visited</span></span>: <span style=\"color: rgb(0, 187, 0)\"><span class=\"ansi-green-fg\">collection</span></span>.<span style=\"color: rgb(0, 187, 0)\"><span class=\"ansi-green-fg\">mutable</span></span>.<span style=\"color: rgb(0, 187, 0)\"><span class=\"ansi-green-fg\">Set</span></span>[<span style=\"color: rgb(0, 187, 0)\"><span class=\"ansi-green-fg\">Int</span></span>] = <span style=\"color: yellow\"><span class=\"ansi-yellow-fg\">Set</span></span>(\n",
       "  <span style=\"color: rgb(0, 187, 0)\"><span class=\"ansi-green-fg\">0</span></span>,\n",
       "  <span style=\"color: rgb(0, 187, 0)\"><span class=\"ansi-green-fg\">466</span></span>,\n",
       "  <span style=\"color: rgb(0, 187, 0)\"><span class=\"ansi-green-fg\">356</span></span>,\n",
       "  <span style=\"color: rgb(0, 187, 0)\"><span class=\"ansi-green-fg\">183</span></span>,\n",
       "  <span style=\"color: rgb(0, 187, 0)\"><span class=\"ansi-green-fg\">306</span></span>,\n",
       "  <span style=\"color: rgb(0, 187, 0)\"><span class=\"ansi-green-fg\">387</span></span>,\n",
       "  <span style=\"color: rgb(0, 187, 0)\"><span class=\"ansi-green-fg\">277</span></span>,\n",
       "  <span style=\"color: rgb(0, 187, 0)\"><span class=\"ansi-green-fg\">531</span></span>,\n",
       "  <span style=\"color: rgb(0, 187, 0)\"><span class=\"ansi-green-fg\">460</span></span>,\n",
       "  <span style=\"color: rgb(0, 187, 0)\"><span class=\"ansi-green-fg\">177</span></span>,\n",
       "  <span style=\"color: rgb(0, 187, 0)\"><span class=\"ansi-green-fg\">148</span></span>,\n",
       "  <span style=\"color: rgb(0, 187, 0)\"><span class=\"ansi-green-fg\">504</span></span>,\n",
       "  <span style=\"color: rgb(0, 187, 0)\"><span class=\"ansi-green-fg\">98</span></span>,\n",
       "  <span style=\"color: rgb(0, 187, 0)\"><span class=\"ansi-green-fg\">331</span></span>,\n",
       "  <span style=\"color: rgb(0, 187, 0)\"><span class=\"ansi-green-fg\">535</span></span>,\n",
       "  <span style=\"color: rgb(0, 187, 0)\"><span class=\"ansi-green-fg\">404</span></span>,\n",
       "  <span style=\"color: rgb(0, 187, 0)\"><span class=\"ansi-green-fg\">375</span></span>,\n",
       "  <span style=\"color: rgb(0, 187, 0)\"><span class=\"ansi-green-fg\">579</span></span>,\n",
       "  <span style=\"color: rgb(0, 187, 0)\"><span class=\"ansi-green-fg\">304</span></span>,\n",
       "  <span style=\"color: rgb(0, 187, 0)\"><span class=\"ansi-green-fg\">529</span></span>,\n",
       "  <span style=\"color: rgb(0, 187, 0)\"><span class=\"ansi-green-fg\">123</span></span>,\n",
       "  <span style=\"color: rgb(0, 187, 0)\"><span class=\"ansi-green-fg\">581</span></span>,\n",
       "  <span style=\"color: rgb(0, 187, 0)\"><span class=\"ansi-green-fg\">94</span></span>,\n",
       "  <span style=\"color: rgb(0, 187, 0)\"><span class=\"ansi-green-fg\">217</span></span>,\n",
       "  <span style=\"color: rgb(0, 187, 0)\"><span class=\"ansi-green-fg\">298</span></span>,\n",
       "  <span style=\"color: rgb(0, 187, 0)\"><span class=\"ansi-green-fg\">604</span></span>,\n",
       "  <span style=\"color: rgb(0, 187, 0)\"><span class=\"ansi-green-fg\">371</span></span>,\n",
       "  <span style=\"color: rgb(0, 187, 0)\"><span class=\"ansi-green-fg\">117</span></span>,\n",
       "  <span style=\"color: rgb(0, 187, 0)\"><span class=\"ansi-green-fg\">198</span></span>,\n",
       "  <span style=\"color: rgb(0, 187, 0)\"><span class=\"ansi-green-fg\">67</span></span>,\n",
       "  <span style=\"color: rgb(0, 187, 0)\"><span class=\"ansi-green-fg\">292</span></span>,\n",
       "  <span style=\"color: rgb(0, 187, 0)\"><span class=\"ansi-green-fg\">221</span></span>,\n",
       "  <span style=\"color: rgb(0, 187, 0)\"><span class=\"ansi-green-fg\">365</span></span>,\n",
       "  <span style=\"color: rgb(0, 187, 0)\"><span class=\"ansi-green-fg\">163</span></span>,\n",
       "  <span style=\"color: rgb(0, 187, 0)\"><span class=\"ansi-green-fg\">396</span></span>,\n",
       "  <span style=\"color: rgb(0, 187, 0)\"><span class=\"ansi-green-fg\">490</span></span>,\n",
       "  <span style=\"color: rgb(0, 187, 0)\"><span class=\"ansi-green-fg\">236</span></span>,\n",
       "  <span style=\"color: rgb(0, 187, 0)\"><span class=\"ansi-green-fg\">215</span></span>,\n",
       "...\n",
       "<span style=\"color: rgb(0, 187, 187)\"><span class=\"ansi-cyan-fg\">instructionRegex</span></span>: <span style=\"color: rgb(0, 187, 0)\"><span class=\"ansi-green-fg\">scala</span></span>.<span style=\"color: rgb(0, 187, 0)\"><span class=\"ansi-green-fg\">util</span></span>.<span style=\"color: rgb(0, 187, 0)\"><span class=\"ansi-green-fg\">matching</span></span>.<span style=\"color: rgb(0, 187, 0)\"><span class=\"ansi-green-fg\">Regex</span></span> = ([a-z]{3}) ([-+]?\\d+)</code></pre>\n",
       "</div>"
      ],
      "text/plain": [
       "\u001b[36mpointer\u001b[39m: \u001b[32mInt\u001b[39m = \u001b[32m603\u001b[39m\n",
       "\u001b[36maccumulator\u001b[39m: \u001b[32mInt\u001b[39m = \u001b[32m1766\u001b[39m\n",
       "\u001b[36mvisited\u001b[39m: \u001b[32mcollection\u001b[39m.\u001b[32mmutable\u001b[39m.\u001b[32mSet\u001b[39m[\u001b[32mInt\u001b[39m] = \u001b[33mSet\u001b[39m(\n",
       "  \u001b[32m0\u001b[39m,\n",
       "  \u001b[32m466\u001b[39m,\n",
       "  \u001b[32m356\u001b[39m,\n",
       "  \u001b[32m183\u001b[39m,\n",
       "  \u001b[32m306\u001b[39m,\n",
       "  \u001b[32m387\u001b[39m,\n",
       "  \u001b[32m277\u001b[39m,\n",
       "  \u001b[32m531\u001b[39m,\n",
       "  \u001b[32m460\u001b[39m,\n",
       "  \u001b[32m177\u001b[39m,\n",
       "  \u001b[32m148\u001b[39m,\n",
       "  \u001b[32m504\u001b[39m,\n",
       "  \u001b[32m98\u001b[39m,\n",
       "  \u001b[32m331\u001b[39m,\n",
       "  \u001b[32m535\u001b[39m,\n",
       "  \u001b[32m404\u001b[39m,\n",
       "  \u001b[32m375\u001b[39m,\n",
       "  \u001b[32m579\u001b[39m,\n",
       "  \u001b[32m304\u001b[39m,\n",
       "  \u001b[32m529\u001b[39m,\n",
       "  \u001b[32m123\u001b[39m,\n",
       "  \u001b[32m581\u001b[39m,\n",
       "  \u001b[32m94\u001b[39m,\n",
       "  \u001b[32m217\u001b[39m,\n",
       "  \u001b[32m298\u001b[39m,\n",
       "  \u001b[32m604\u001b[39m,\n",
       "  \u001b[32m371\u001b[39m,\n",
       "  \u001b[32m117\u001b[39m,\n",
       "  \u001b[32m198\u001b[39m,\n",
       "  \u001b[32m67\u001b[39m,\n",
       "  \u001b[32m292\u001b[39m,\n",
       "  \u001b[32m221\u001b[39m,\n",
       "  \u001b[32m365\u001b[39m,\n",
       "  \u001b[32m163\u001b[39m,\n",
       "  \u001b[32m396\u001b[39m,\n",
       "  \u001b[32m490\u001b[39m,\n",
       "  \u001b[32m236\u001b[39m,\n",
       "  \u001b[32m215\u001b[39m,\n",
       "...\n",
       "\u001b[36minstructionRegex\u001b[39m: \u001b[32mscala\u001b[39m.\u001b[32mutil\u001b[39m.\u001b[32mmatching\u001b[39m.\u001b[32mRegex\u001b[39m = ([a-z]{3}) ([-+]?\\d+)"
      ]
     },
     "metadata": {},
     "output_type": "display_data"
    }
   ],
   "source": [
    "var pointer = 0\n",
    "var accumulator = 0\n",
    "val visited = collection.mutable.Set[Int]()\n",
    "val instructionRegex = \"\"\"([a-z]{3}) ([-+]?\\d+)\"\"\".r\n",
    "\n",
    "while (!visited.contains(pointer)) {\n",
    "    visited += pointer\n",
    "    instructions(pointer) match {\n",
    "        case instructionRegex(\"jmp\", jump) => pointer += jump.toInt\n",
    "        case instructionRegex(\"acc\", n) => {accumulator += n.toInt; pointer += 1}\n",
    "        case instructionRegex(\"nop\", _) => pointer += 1\n",
    "    }\n",
    "}"
   ]
  },
  {
   "cell_type": "markdown",
   "metadata": {},
   "source": [
    "# Part 2"
   ]
  },
  {
   "cell_type": "code",
   "execution_count": 3,
   "metadata": {},
   "outputs": [
    {
     "data": {
      "text/plain": [
       "\u001b[36minstructionRegex\u001b[39m: \u001b[32mscala\u001b[39m.\u001b[32mutil\u001b[39m.\u001b[32mmatching\u001b[39m.\u001b[32mRegex\u001b[39m = ([a-z]{3}) ([-+]?\\d+)\n",
       "defined \u001b[32mfunction\u001b[39m \u001b[36mexecute\u001b[39m"
      ]
     },
     "execution_count": 3,
     "metadata": {},
     "output_type": "execute_result"
    }
   ],
   "source": [
    "val instructionRegex = \"\"\"([a-z]{3}) ([-+]?\\d+)\"\"\".r\n",
    "\n",
    "def execute(instructions: List[String]): (Boolean, Int) = {\n",
    "    var pointer = 0\n",
    "    var accumulator = 0\n",
    "    val visited = collection.mutable.Set[Int]()\n",
    "    while (pointer < instructions.size && !visited.contains(pointer)) {\n",
    "        visited += pointer\n",
    "        instructions(pointer) match {\n",
    "            case instructionRegex(\"jmp\", jump) => pointer += jump.toInt\n",
    "            case instructionRegex(\"acc\", n) => {accumulator += n.toInt; pointer += 1}\n",
    "            case instructionRegex(\"nop\", _) => pointer += 1\n",
    "        }\n",
    "    }\n",
    "    (pointer >= instructions.size, accumulator)\n",
    "}\n"
   ]
  },
  {
   "cell_type": "code",
   "execution_count": 4,
   "metadata": {},
   "outputs": [
    {
     "data": {
      "text/plain": [
       "\u001b[36mres3\u001b[39m: (\u001b[32mBoolean\u001b[39m, \u001b[32mInt\u001b[39m) = (false, \u001b[32m1766\u001b[39m)"
      ]
     },
     "execution_count": 4,
     "metadata": {},
     "output_type": "execute_result"
    }
   ],
   "source": [
    "execute(instructions)"
   ]
  },
  {
   "cell_type": "code",
   "execution_count": 5,
   "metadata": {},
   "outputs": [
    {
     "data": {
      "text/plain": [
       "\u001b[36mres4\u001b[39m: \u001b[32mList\u001b[39m[(\u001b[32mBoolean\u001b[39m, \u001b[32mInt\u001b[39m)] = \u001b[33mList\u001b[39m((true, \u001b[32m1639\u001b[39m))"
      ]
     },
     "execution_count": 5,
     "metadata": {},
     "output_type": "execute_result"
    }
   ],
   "source": [
    "instructions\n",
    "    .zipWithIndex.filter(_._1 matches \"(jmp|nop).*\").map(_._2)\n",
    "    .map(i => execute(\n",
    "        instructions(i) match {\n",
    "            case instructionRegex(\"jmp\", n) => instructions.patch(i, List(s\"nop $n\"), 1)\n",
    "            case instructionRegex(\"nop\", n) => instructions.patch(i, List(s\"jmp $n\"), 1)\n",
    "        }\n",
    "    ))\n",
    "    .filter(_._1)\n"
   ]
  },
  {
   "cell_type": "code",
   "execution_count": null,
   "metadata": {},
   "outputs": [],
   "source": []
  }
 ],
 "metadata": {
  "kernelspec": {
   "display_name": "Scala 2.12",
   "language": "scala",
   "name": "scala212"
  },
  "language_info": {
   "codemirror_mode": "text/x-scala",
   "file_extension": ".sc",
   "mimetype": "text/x-scala",
   "name": "scala",
   "nbconvert_exporter": "script",
   "version": "2.12.12"
  }
 },
 "nbformat": 4,
 "nbformat_minor": 4
}
