{
 "cells": [
  {
   "cell_type": "markdown",
   "metadata": {},
   "source": [
    "# Day 1 - Part 1"
   ]
  },
  {
   "cell_type": "code",
   "execution_count": 32,
   "metadata": {},
   "outputs": [
    {
     "data": {
      "text/plain": [
       "\u001b[32mimport \u001b[39m\u001b[36mscala.io.Source\u001b[39m"
      ]
     },
     "execution_count": 32,
     "metadata": {},
     "output_type": "execute_result"
    }
   ],
   "source": [
    "import scala.io.Source"
   ]
  },
  {
   "cell_type": "code",
   "execution_count": 33,
   "metadata": {},
   "outputs": [
    {
     "data": {
      "text/plain": [
       "\u001b[36mexpenses\u001b[39m: \u001b[32mList\u001b[39m[\u001b[32mInt\u001b[39m] = \u001b[33mList\u001b[39m(\n",
       "  \u001b[32m1941\u001b[39m,\n",
       "  \u001b[32m1887\u001b[39m,\n",
       "  \u001b[32m1851\u001b[39m,\n",
       "  \u001b[32m1874\u001b[39m,\n",
       "  \u001b[32m1612\u001b[39m,\n",
       "  \u001b[32m1960\u001b[39m,\n",
       "  \u001b[32m1971\u001b[39m,\n",
       "  \u001b[32m1983\u001b[39m,\n",
       "  \u001b[32m1406\u001b[39m,\n",
       "  \u001b[32m1966\u001b[39m,\n",
       "  \u001b[32m1554\u001b[39m,\n",
       "  \u001b[32m1892\u001b[39m,\n",
       "  \u001b[32m1898\u001b[39m,\n",
       "  \u001b[32m1926\u001b[39m,\n",
       "  \u001b[32m1081\u001b[39m,\n",
       "  \u001b[32m1992\u001b[39m,\n",
       "  \u001b[32m1073\u001b[39m,\n",
       "  \u001b[32m1603\u001b[39m,\n",
       "  \u001b[32m177\u001b[39m,\n",
       "  \u001b[32m1747\u001b[39m,\n",
       "  \u001b[32m1063\u001b[39m,\n",
       "  \u001b[32m1969\u001b[39m,\n",
       "  \u001b[32m1659\u001b[39m,\n",
       "  \u001b[32m1303\u001b[39m,\n",
       "  \u001b[32m1759\u001b[39m,\n",
       "  \u001b[32m1853\u001b[39m,\n",
       "  \u001b[32m1107\u001b[39m,\n",
       "  \u001b[32m1818\u001b[39m,\n",
       "  \u001b[32m1672\u001b[39m,\n",
       "  \u001b[32m1352\u001b[39m,\n",
       "  \u001b[32m2002\u001b[39m,\n",
       "  \u001b[32m1838\u001b[39m,\n",
       "  \u001b[32m1985\u001b[39m,\n",
       "  \u001b[32m1860\u001b[39m,\n",
       "  \u001b[32m1141\u001b[39m,\n",
       "  \u001b[32m1903\u001b[39m,\n",
       "  \u001b[32m1334\u001b[39m,\n",
       "  \u001b[32m1489\u001b[39m,\n",
       "..."
      ]
     },
     "execution_count": 33,
     "metadata": {},
     "output_type": "execute_result"
    }
   ],
   "source": [
    "val expenses = Source.fromFile(\"input\").getLines.map(_.toInt).toList"
   ]
  },
  {
   "cell_type": "code",
   "execution_count": 34,
   "metadata": {},
   "outputs": [
    {
     "data": {
      "text/plain": [
       "\u001b[36mres33\u001b[39m: \u001b[32mIterable\u001b[39m[\u001b[32mList\u001b[39m[\u001b[32mInt\u001b[39m]] = \u001b[33mList\u001b[39m(\u001b[33mList\u001b[39m(\u001b[32m177\u001b[39m, \u001b[32m1843\u001b[39m))"
      ]
     },
     "execution_count": 34,
     "metadata": {},
     "output_type": "execute_result"
    }
   ],
   "source": [
    "expenses.groupBy{e => math.min(e, 2020 - e)}.values.filter(_.size > 1)"
   ]
  },
  {
   "cell_type": "code",
   "execution_count": 35,
   "metadata": {},
   "outputs": [
    {
     "data": {
      "text/plain": [
       "\u001b[36mres34\u001b[39m: \u001b[32mIterable\u001b[39m[\u001b[32mInt\u001b[39m] = \u001b[33mList\u001b[39m(\u001b[32m326211\u001b[39m)"
      ]
     },
     "execution_count": 35,
     "metadata": {},
     "output_type": "execute_result"
    }
   ],
   "source": [
    "expenses.groupBy{e => math.min(e, 2020 - e)}.values.filter(_.size > 1).map(_.reduce(_*_))"
   ]
  },
  {
   "cell_type": "markdown",
   "metadata": {},
   "source": [
    "# Day 1 - Part 2"
   ]
  },
  {
   "cell_type": "code",
   "execution_count": 44,
   "metadata": {},
   "outputs": [
    {
     "data": {
      "text/plain": [
       "\u001b[36mtriples\u001b[39m: \u001b[32mList\u001b[39m[\u001b[32mList\u001b[39m[\u001b[32mInt\u001b[39m]] = \u001b[33mList\u001b[39m(\u001b[33mList\u001b[39m(\u001b[32m190\u001b[39m, \u001b[32m533\u001b[39m, \u001b[32m1297\u001b[39m))"
      ]
     },
     "execution_count": 44,
     "metadata": {},
     "output_type": "execute_result"
    }
   ],
   "source": [
    "val triples = for(\n",
    "    x <- expenses;\n",
    "    y <- expenses if x <= y;\n",
    "    z <- expenses if y <= z;\n",
    "    if x + y + z == 2020\n",
    ") yield List(x, y, z)"
   ]
  },
  {
   "cell_type": "code",
   "execution_count": 45,
   "metadata": {},
   "outputs": [
    {
     "data": {
      "text/plain": [
       "\u001b[36mres44\u001b[39m: \u001b[32mList\u001b[39m[\u001b[32mInt\u001b[39m] = \u001b[33mList\u001b[39m(\u001b[32m131347190\u001b[39m)"
      ]
     },
     "execution_count": 45,
     "metadata": {},
     "output_type": "execute_result"
    }
   ],
   "source": [
    "triples.map(_.reduce(_*_))"
   ]
  },
  {
   "cell_type": "code",
   "execution_count": null,
   "metadata": {},
   "outputs": [],
   "source": []
  }
 ],
 "metadata": {
  "kernelspec": {
   "display_name": "Scala 2.12",
   "language": "scala",
   "name": "scala212"
  },
  "language_info": {
   "codemirror_mode": "text/x-scala",
   "file_extension": ".sc",
   "mimetype": "text/x-scala",
   "name": "scala",
   "nbconvert_exporter": "script",
   "version": "2.12.12"
  }
 },
 "nbformat": 4,
 "nbformat_minor": 4
}
