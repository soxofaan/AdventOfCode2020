{
 "cells": [
  {
   "cell_type": "markdown",
   "metadata": {},
   "source": [
    "# Part 1"
   ]
  },
  {
   "cell_type": "code",
   "execution_count": 16,
   "metadata": {},
   "outputs": [
    {
     "data": {
      "text/plain": [
       "defined \u001b[32mfunction\u001b[39m \u001b[36msplitDocs\u001b[39m"
      ]
     },
     "execution_count": 16,
     "metadata": {},
     "output_type": "execute_result"
    }
   ],
   "source": [
    "// inspired by https://stackoverflow.com/a/40453980\n",
    "def splitDocs(lines: Stream[String]): Stream[String] = {\n",
    "    if (lines.isEmpty) Stream.Empty\n",
    "    else {\n",
    "        val (doc, rest) = lines.span(_.trim.nonEmpty)\n",
    "        doc.mkString(\" \") #:: splitDocs(rest.dropWhile(_.trim.isEmpty))\n",
    "    }\n",
    "}"
   ]
  },
  {
   "cell_type": "code",
   "execution_count": 18,
   "metadata": {},
   "outputs": [
    {
     "data": {
      "text/plain": [
       "\u001b[36mdocLines\u001b[39m: \u001b[32mStream\u001b[39m[\u001b[32mString\u001b[39m] = \u001b[33mStream\u001b[39m(\n",
       "  \u001b[32m\"iyr:2010 ecl:gry hgt:181cm pid:591597745 byr:1920 hcl:#6b5442 eyr:2029 cid:123\"\u001b[39m,\n",
       "  \u001b[32m\"cid:223 byr:1927 hgt:177cm hcl:#602927 iyr:2016 pid:404183620 ecl:amb eyr:2020\"\u001b[39m,\n",
       "  \u001b[32m\"byr:1998 ecl:hzl cid:178 hcl:#a97842 iyr:2014 hgt:166cm pid:594143498 eyr:2030\"\u001b[39m,\n",
       "  \u001b[32m\"ecl:hzl pid:795349208 iyr:2018 eyr:2024 hcl:#de745c hgt:157cm\"\u001b[39m,\n",
       "  \u001b[32m\"hgt:159cm pid:364060467 eyr:2025 byr:1978 iyr:2018 cid:117 ecl:hzl hcl:#18171d\"\u001b[39m,\n",
       "  \u001b[32m\"hcl:#cfa07d ecl:amb iyr:2012 hgt:182cm cid:338 eyr:2020 pid:374679609 byr:1925\"\u001b[39m,\n",
       "  \u001b[32m\"eyr:2021 byr:1981 hcl:#623a2f cid:195 iyr:2010 pid:579769934 ecl:grn hgt:192cm\"\u001b[39m,\n",
       "  \u001b[32m\"byr:1970 ecl:oth eyr:2025 pid:409994798 iyr:2018 hgt:189cm\"\u001b[39m,\n",
       "  \u001b[32m\"hgt:153cm pid:817651329 iyr:2019 eyr:2029 hcl:#623a2f byr:1920 ecl:gry\"\u001b[39m,\n",
       "  \u001b[32m\"iyr:2011 ecl:amb hcl:#a97842 byr:1965 pid:648375525 eyr:2028 hgt:177cm cid:287\"\u001b[39m,\n",
       "  \u001b[32m\"iyr:2012 pid:369979235 hcl:#c0946f ecl:amb hgt:178cm\"\u001b[39m,\n",
       "  \u001b[32m\"byr:1927 ecl:brn hgt:178cm eyr:2026 hcl:#efcc98 iyr:2011 pid:770851101\"\u001b[39m,\n",
       "  \u001b[32m\"eyr:2028 ecl:oth cid:298 byr:1943 hgt:168cm iyr:2018 hcl:#ceb3a1 pid:116783406\"\u001b[39m,\n",
       "  \u001b[32m\"eyr:2027 hgt:175cm hcl:#733820 ecl:gry cid:349 iyr:2017 byr:1960 pid:257797292\"\u001b[39m,\n",
       "  \u001b[32m\"cid:66 ecl:amb eyr:2030 iyr:2026 byr:2024 hcl:a22966 hgt:179cm pid:155cm\"\u001b[39m,\n",
       "  \u001b[32m\"eyr:2023 hcl:#c0946f pid:081232570 ecl:hzl iyr:2010 hgt:158cm byr:1969\"\u001b[39m,\n",
       "  \u001b[32m\"byr:1958 ecl:grn hcl:#ceb3a1 hgt:173cm pid:600039004 cid:107 iyr:2012 eyr:2027\"\u001b[39m,\n",
       "  \u001b[32m\"ecl:amb pid:021066381 hcl:#ceb3a1 byr:1982 iyr:2017 hgt:167cm eyr:2025 cid:61\"\u001b[39m,\n",
       "  \u001b[32m\"hcl:#341e13 cid:268 pid:358390884 hgt:188cm byr:1961 iyr:2014 eyr:2027 ecl:blu\"\u001b[39m,\n",
       "  \u001b[32m\"ecl:brn eyr:2020 pid:607203641 hcl:#fffffd iyr:2011 byr:1962 hgt:156cm\"\u001b[39m,\n",
       "  \u001b[32m\"iyr:2018 hcl:#b6652a byr:1942 ecl:blu eyr:2029 hgt:154cm pid:649263319\"\u001b[39m,\n",
       "  \u001b[32m\"ecl:oth hgt:73in iyr:2012 hcl:#888785 eyr:2020 pid:147939289 byr:1961\"\u001b[39m,\n",
       "  \u001b[32m\"ecl:oth iyr:2015 hgt:189cm hcl:#341e13 pid:686943691 eyr:2023 byr:1987\"\u001b[39m,\n",
       "  \u001b[32m\"pid:568844323 eyr:2023 byr:1921 hgt:167cm cid:154 hcl:#b6652a ecl:gry iyr:2020\"\u001b[39m,\n",
       "  \u001b[32m\"eyr:2023 byr:1994 iyr:1937 hgt:177cm hcl:#c0946f pid:686240814 cid:231 ecl:#a\u001b[39m..."
      ]
     },
     "execution_count": 18,
     "metadata": {},
     "output_type": "execute_result"
    }
   ],
   "source": [
    "val docLines = getDocs(io.Source.fromFile(\"input\").getLines.toStream)"
   ]
  },
  {
   "cell_type": "code",
   "execution_count": 19,
   "metadata": {},
   "outputs": [
    {
     "data": {
      "text/plain": [
       "\u001b[36mdocs\u001b[39m: \u001b[32mStream\u001b[39m[\u001b[32mMap\u001b[39m[\u001b[32mString\u001b[39m, \u001b[32mString\u001b[39m]] = \u001b[33mStream\u001b[39m(\n",
       "  \u001b[33mMap\u001b[39m(\n",
       "    \u001b[32m\"hgt\"\u001b[39m -> \u001b[32m\"181cm\"\u001b[39m,\n",
       "    \u001b[32m\"hcl\"\u001b[39m -> \u001b[32m\"#6b5442\"\u001b[39m,\n",
       "    \u001b[32m\"ecl\"\u001b[39m -> \u001b[32m\"gry\"\u001b[39m,\n",
       "    \u001b[32m\"byr\"\u001b[39m -> \u001b[32m\"1920\"\u001b[39m,\n",
       "    \u001b[32m\"eyr\"\u001b[39m -> \u001b[32m\"2029\"\u001b[39m,\n",
       "    \u001b[32m\"cid\"\u001b[39m -> \u001b[32m\"123\"\u001b[39m,\n",
       "    \u001b[32m\"pid\"\u001b[39m -> \u001b[32m\"591597745\"\u001b[39m,\n",
       "    \u001b[32m\"iyr\"\u001b[39m -> \u001b[32m\"2010\"\u001b[39m\n",
       "  ),\n",
       "  \u001b[33mMap\u001b[39m(\n",
       "    \u001b[32m\"hgt\"\u001b[39m -> \u001b[32m\"177cm\"\u001b[39m,\n",
       "    \u001b[32m\"hcl\"\u001b[39m -> \u001b[32m\"#602927\"\u001b[39m,\n",
       "    \u001b[32m\"ecl\"\u001b[39m -> \u001b[32m\"amb\"\u001b[39m,\n",
       "    \u001b[32m\"byr\"\u001b[39m -> \u001b[32m\"1927\"\u001b[39m,\n",
       "    \u001b[32m\"eyr\"\u001b[39m -> \u001b[32m\"2020\"\u001b[39m,\n",
       "    \u001b[32m\"cid\"\u001b[39m -> \u001b[32m\"223\"\u001b[39m,\n",
       "    \u001b[32m\"pid\"\u001b[39m -> \u001b[32m\"404183620\"\u001b[39m,\n",
       "    \u001b[32m\"iyr\"\u001b[39m -> \u001b[32m\"2016\"\u001b[39m\n",
       "  ),\n",
       "  \u001b[33mMap\u001b[39m(\n",
       "    \u001b[32m\"hgt\"\u001b[39m -> \u001b[32m\"166cm\"\u001b[39m,\n",
       "    \u001b[32m\"hcl\"\u001b[39m -> \u001b[32m\"#a97842\"\u001b[39m,\n",
       "    \u001b[32m\"ecl\"\u001b[39m -> \u001b[32m\"hzl\"\u001b[39m,\n",
       "    \u001b[32m\"byr\"\u001b[39m -> \u001b[32m\"1998\"\u001b[39m,\n",
       "    \u001b[32m\"eyr\"\u001b[39m -> \u001b[32m\"2030\"\u001b[39m,\n",
       "    \u001b[32m\"cid\"\u001b[39m -> \u001b[32m\"178\"\u001b[39m,\n",
       "    \u001b[32m\"pid\"\u001b[39m -> \u001b[32m\"594143498\"\u001b[39m,\n",
       "    \u001b[32m\"iyr\"\u001b[39m -> \u001b[32m\"2014\"\u001b[39m\n",
       "  ),\n",
       "  \u001b[33mMap\u001b[39m(\n",
       "    \u001b[32m\"hgt\"\u001b[39m -> \u001b[32m\"157cm\"\u001b[39m,\n",
       "    \u001b[32m\"hcl\"\u001b[39m -> \u001b[32m\"#de745c\"\u001b[39m,\n",
       "    \u001b[32m\"ecl\"\u001b[39m -> \u001b[32m\"hzl\"\u001b[39m,\n",
       "    \u001b[32m\"eyr\"\u001b[39m -> \u001b[32m\"2024\"\u001b[39m,\n",
       "    \u001b[32m\"pid\"\u001b[39m -> \u001b[32m\"795349208\"\u001b[39m,\n",
       "    \u001b[32m\"iyr\"\u001b[39m -> \u001b[32m\"2018\"\u001b[39m\n",
       "  ),\n",
       "..."
      ]
     },
     "execution_count": 19,
     "metadata": {},
     "output_type": "execute_result"
    }
   ],
   "source": [
    "val docs = docLines.map(_.split(\" \").map(f => {val a = f.split(\":\", 2); a(0) -> a(1)}).toMap)"
   ]
  },
  {
   "cell_type": "code",
   "execution_count": 26,
   "metadata": {},
   "outputs": [
    {
     "data": {
      "text/plain": [
       "\u001b[36mexpectedFields\u001b[39m: \u001b[32mSet\u001b[39m[\u001b[32mString\u001b[39m] = \u001b[33mSet\u001b[39m(\n",
       "  \u001b[32m\"hgt\"\u001b[39m,\n",
       "  \u001b[32m\"hcl\"\u001b[39m,\n",
       "  \u001b[32m\"ecl\"\u001b[39m,\n",
       "  \u001b[32m\"byr\"\u001b[39m,\n",
       "  \u001b[32m\"eyr\"\u001b[39m,\n",
       "  \u001b[32m\"pid\"\u001b[39m,\n",
       "  \u001b[32m\"iyr\"\u001b[39m\n",
       ")"
      ]
     },
     "execution_count": 26,
     "metadata": {},
     "output_type": "execute_result"
    }
   ],
   "source": [
    "val expectedFields = Set(\n",
    "    \"byr\", \"iyr\", \"eyr\", \"hgt\", \"hcl\", \"ecl\", \"pid\",\n",
    "//     \"cid\"\n",
    ")"
   ]
  },
  {
   "cell_type": "code",
   "execution_count": 29,
   "metadata": {},
   "outputs": [
    {
     "data": {
      "text/plain": [
       "\u001b[36mres28\u001b[39m: \u001b[32mInt\u001b[39m = \u001b[32m254\u001b[39m"
      ]
     },
     "execution_count": 29,
     "metadata": {},
     "output_type": "execute_result"
    }
   ],
   "source": [
    "docs.filter(d => expectedFields.subsetOf(d.keySet)).size"
   ]
  },
  {
   "cell_type": "markdown",
   "metadata": {},
   "source": [
    "# Part 2"
   ]
  },
  {
   "cell_type": "code",
   "execution_count": 65,
   "metadata": {},
   "outputs": [
    {
     "data": {
      "text/plain": [
       "\u001b[36mhgtRegex\u001b[39m: \u001b[32mscala\u001b[39m.\u001b[32mutil\u001b[39m.\u001b[32mmatching\u001b[39m.\u001b[32mRegex\u001b[39m = (\\d+)(cm|in)\n",
       "\u001b[36meyeColors\u001b[39m: \u001b[32mSet\u001b[39m[\u001b[32mString\u001b[39m] = \u001b[33mSet\u001b[39m(\u001b[32m\"oth\"\u001b[39m, \u001b[32m\"brn\"\u001b[39m, \u001b[32m\"hzl\"\u001b[39m, \u001b[32m\"blu\"\u001b[39m, \u001b[32m\"gry\"\u001b[39m, \u001b[32m\"grn\"\u001b[39m, \u001b[32m\"amb\"\u001b[39m)\n",
       "\u001b[36mrules\u001b[39m: \u001b[32mMap\u001b[39m[\u001b[32mString\u001b[39m, \u001b[32mString\u001b[39m => \u001b[32mBoolean\u001b[39m] = \u001b[33mMap\u001b[39m(\n",
       "  \u001b[32m\"hgt\"\u001b[39m -> ammonite.$sess.cmd64$Helper$$Lambda$3379/2109343486@12963b61,\n",
       "  \u001b[32m\"hcl\"\u001b[39m -> ammonite.$sess.cmd64$Helper$$Lambda$3380/1702978288@11e1209,\n",
       "  \u001b[32m\"ecl\"\u001b[39m -> ammonite.$sess.cmd64$Helper$$Lambda$3381/2027307540@6531be89,\n",
       "  \u001b[32m\"byr\"\u001b[39m -> ammonite.$sess.cmd64$Helper$$Lambda$3376/983847137@2aeea718,\n",
       "  \u001b[32m\"eyr\"\u001b[39m -> ammonite.$sess.cmd64$Helper$$Lambda$3378/825340961@900cc17,\n",
       "  \u001b[32m\"pid\"\u001b[39m -> ammonite.$sess.cmd64$Helper$$Lambda$3382/1157263763@787f1964,\n",
       "  \u001b[32m\"iyr\"\u001b[39m -> ammonite.$sess.cmd64$Helper$$Lambda$3377/1182492194@10523514\n",
       ")\n",
       "defined \u001b[32mfunction\u001b[39m \u001b[36misValid\u001b[39m\n",
       "defined \u001b[32mfunction\u001b[39m \u001b[36mgetViolations\u001b[39m"
      ]
     },
     "execution_count": 65,
     "metadata": {},
     "output_type": "execute_result"
    }
   ],
   "source": [
    "val hgtRegex = raw\"(\\d+)(cm|in)\".r\n",
    "val eyeColors = Set(\"amb\", \"blu\", \"brn\", \"gry\", \"grn\", \"hzl\", \"oth\")\n",
    "\n",
    "val rules: Map[String, (String) => Boolean] = Map(\n",
    "    // byr (Birth Year) - four digits; at least 1920 and at most 2002.\n",
    "    \"byr\" -> {s => {val y = s.toInt; 1920 <= y && y <= 2002}},\n",
    "    // iyr (Issue Year) - four digits; at least 2010 and at most 2020.\n",
    "    \"iyr\" -> {s => {val y = s.toInt; 2010 <= y && y <= 2020}},\n",
    "    // eyr (Expiration Year) - four digits; at least 2020 and at most 2030.\n",
    "    \"eyr\" -> {s => {val y = s.toInt; 2020 <= y && y <= 2030}},\n",
    "    // hgt (Height) - a number followed by either cm or in:\n",
    "    //    If cm, the number must be at least 150 and at most 193.\n",
    "    //    If in, the number must be at least 59 and at most 76.\n",
    "    \"hgt\" -> {\n",
    "        case hgtRegex(n, u) => {\n",
    "            val h = n.toInt; \n",
    "            u == \"cm\" && 150 <= h && h <= 193 || u == \"in\" && 59 <= h && h <= 76\n",
    "        }\n",
    "        case _ => false\n",
    "    },\n",
    "    // hcl (Hair Color) - a # followed by exactly six characters 0-9 or a-f.\n",
    "    \"hcl\" -> {s => s.matches(\"#[0-9a-f]{6}\")},\n",
    "    // ecl (Eye Color) - exactly one of: amb blu brn gry grn hzl oth.\n",
    "    \"ecl\" -> {s => eyeColors.contains(s)},\n",
    "    // pid (Passport ID) - a nine-digit number, including leading zeroes.\n",
    "    \"pid\" -> {s => s.matches(\"\\\\d{9}\")},\n",
    "    // cid (Country ID) - ignored, missing or not.\n",
    ")\n",
    "\n",
    "def isValid(doc: Map[String, String]): Boolean = {\n",
    "    rules.map{case (f, rule) => doc.get(f).map(rule).getOrElse(false)}.reduce(_ && _)\n",
    "}\n",
    "\n",
    "def getViolations(doc: Map[String, String]): Set[String] = {\n",
    "    rules.filter{case (f, rule) => !doc.get(f).map(rule).getOrElse(false)}.map(_._1).toSet\n",
    "}"
   ]
  },
  {
   "cell_type": "code",
   "execution_count": 66,
   "metadata": {},
   "outputs": [
    {
     "data": {
      "text/plain": [
       "\u001b[36mres65\u001b[39m: \u001b[32mInt\u001b[39m = \u001b[32m184\u001b[39m"
      ]
     },
     "execution_count": 66,
     "metadata": {},
     "output_type": "execute_result"
    }
   ],
   "source": [
    "// docs.map(getViolations)\n",
    "docs.filter(isValid).size"
   ]
  },
  {
   "cell_type": "code",
   "execution_count": null,
   "metadata": {},
   "outputs": [],
   "source": []
  }
 ],
 "metadata": {
  "kernelspec": {
   "display_name": "Scala 2.12",
   "language": "scala",
   "name": "scala212"
  },
  "language_info": {
   "codemirror_mode": "text/x-scala",
   "file_extension": ".sc",
   "mimetype": "text/x-scala",
   "name": "scala",
   "nbconvert_exporter": "script",
   "version": "2.12.12"
  }
 },
 "nbformat": 4,
 "nbformat_minor": 4
}
