{
 "cells": [
  {
   "cell_type": "markdown",
   "metadata": {},
   "source": [
    "# Part 1"
   ]
  },
  {
   "cell_type": "code",
   "execution_count": 1,
   "metadata": {},
   "outputs": [
    {
     "data": {
      "text/plain": [
       "\u001b[36mmap\u001b[39m: \u001b[32mList\u001b[39m[\u001b[32mString\u001b[39m] = \u001b[33mList\u001b[39m(\n",
       "  \u001b[32m\"......#...........#...#........\"\u001b[39m,\n",
       "  \u001b[32m\".#.....#...##.......#.....##...\"\u001b[39m,\n",
       "  \u001b[32m\"......#.#....#.................\"\u001b[39m,\n",
       "  \u001b[32m\"..............#.#.......#......\"\u001b[39m,\n",
       "  \u001b[32m\".....#.#...##...#.#..#..#..#..#\"\u001b[39m,\n",
       "  \u001b[32m\".......##...#..#...........#...\"\u001b[39m,\n",
       "  \u001b[32m\".......#.##.#...#.#.........#..\"\u001b[39m,\n",
       "  \u001b[32m\"..#...##............##......#.#\"\u001b[39m,\n",
       "  \u001b[32m\".......#.......##......##.##.#.\"\u001b[39m,\n",
       "  \u001b[32m\"...#...#........#....#........#\"\u001b[39m,\n",
       "  \u001b[32m\"#............###.#......#.....#\"\u001b[39m,\n",
       "  \u001b[32m\"..#........#....#..#..........#\"\u001b[39m,\n",
       "  \u001b[32m\"..#..##....#......#..#......#..\"\u001b[39m,\n",
       "  \u001b[32m\"........#......#......#..#..#..\"\u001b[39m,\n",
       "  \u001b[32m\"..#...#....#..##.......#.#.....\"\u001b[39m,\n",
       "  \u001b[32m\".....#.#......#..#....#.##.#..#\"\u001b[39m,\n",
       "  \u001b[32m\"......###.....#..#..........#..\"\u001b[39m,\n",
       "  \u001b[32m\".#................#.#..........\"\u001b[39m,\n",
       "  \u001b[32m\".........#..#...#......##......\"\u001b[39m,\n",
       "  \u001b[32m\"##...#....#...#.#...#.##..#....\"\u001b[39m,\n",
       "  \u001b[32m\"...##...#....#.........###.....\"\u001b[39m,\n",
       "  \u001b[32m\".#.#....#.........##...........\"\u001b[39m,\n",
       "  \u001b[32m\"....#.#..#..#...........#......\"\u001b[39m,\n",
       "  \u001b[32m\"..#..#.#....#....#...#.........\"\u001b[39m,\n",
       "  \u001b[32m\"..........##.....#.##..........\"\u001b[39m,\n",
       "  \u001b[32m\"..#.#....#..##......#.#.....##.\"\u001b[39m,\n",
       "  \u001b[32m\"..#...#.##......#..........#...\"\u001b[39m,\n",
       "  \u001b[32m\"......#....#..#.....#.....#...#\"\u001b[39m,\n",
       "  \u001b[32m\"#.#...##.#.##.........#..#.....\"\u001b[39m,\n",
       "  \u001b[32m\"...#.#.#.........#.....#.#.#...\"\u001b[39m,\n",
       "  \u001b[32m\"..#.........#...............#..\"\u001b[39m,\n",
       "  \u001b[32m\"#..##.....#.........#....#.....\"\u001b[39m,\n",
       "  \u001b[32m\"...#....##..##...........##..#.\"\u001b[39m,\n",
       "  \u001b[32m\"......##.................#.#...\"\u001b[39m,\n",
       "  \u001b[32m\"##.......#....#.#.#.....#......\"\u001b[39m,\n",
       "  \u001b[32m\"....#.#...#.................##.\"\u001b[39m,\n",
       "  \u001b[32m\"#...#.........##.....#.........\"\u001b[39m,\n",
       "  \u001b[32m\"#....#.###..#.....##.#....#....\"\u001b[39m,\n",
       "...\n",
       "\u001b[36mheight\u001b[39m: \u001b[32mInt\u001b[39m = \u001b[32m323\u001b[39m\n",
       "\u001b[36mwidth\u001b[39m: \u001b[32mInt\u001b[39m = \u001b[32m31\u001b[39m"
      ]
     },
     "execution_count": 1,
     "metadata": {},
     "output_type": "execute_result"
    }
   ],
   "source": [
    "val map = io.Source.fromFile(\"input\").getLines.toList\n",
    "val height = map.size\n",
    "val width = map(0).size"
   ]
  },
  {
   "cell_type": "code",
   "execution_count": 2,
   "metadata": {},
   "outputs": [
    {
     "data": {
      "text/plain": [
       "\u001b[36mres1\u001b[39m: \u001b[32mInt\u001b[39m = \u001b[32m259\u001b[39m"
      ]
     },
     "execution_count": 2,
     "metadata": {},
     "output_type": "execute_result"
    }
   ],
   "source": [
    "map.zipWithIndex.map{case (row, r) => row((r * 3) % width)}.filter(_ == '#').size"
   ]
  },
  {
   "cell_type": "markdown",
   "metadata": {},
   "source": [
    "# Day 3 - Part 2"
   ]
  },
  {
   "cell_type": "code",
   "execution_count": 3,
   "metadata": {},
   "outputs": [
    {
     "data": {
      "text/plain": [
       "\u001b[36mslopes\u001b[39m: \u001b[32mList\u001b[39m[(\u001b[32mInt\u001b[39m, \u001b[32mInt\u001b[39m)] = \u001b[33mList\u001b[39m((\u001b[32m1\u001b[39m, \u001b[32m1\u001b[39m), (\u001b[32m3\u001b[39m, \u001b[32m1\u001b[39m), (\u001b[32m5\u001b[39m, \u001b[32m1\u001b[39m), (\u001b[32m7\u001b[39m, \u001b[32m1\u001b[39m), (\u001b[32m1\u001b[39m, \u001b[32m2\u001b[39m))"
      ]
     },
     "execution_count": 3,
     "metadata": {},
     "output_type": "execute_result"
    }
   ],
   "source": [
    "val slopes = List(\n",
    "    (1, 1),\n",
    "    (3, 1),\n",
    "    (5, 1),\n",
    "    (7, 1),\n",
    "    (1, 2),\n",
    ")"
   ]
  },
  {
   "cell_type": "code",
   "execution_count": 4,
   "metadata": {},
   "outputs": [
    {
     "data": {
      "text/plain": [
       "defined \u001b[32mfunction\u001b[39m \u001b[36mcountTrees\u001b[39m\n",
       "\u001b[36mres3_1\u001b[39m: \u001b[32mInt\u001b[39m = \u001b[32m259\u001b[39m"
      ]
     },
     "execution_count": 4,
     "metadata": {},
     "output_type": "execute_result"
    }
   ],
   "source": [
    "def countTrees(map: List[String], dx: Int, dy: Int): Int = {\n",
    "    map.zipWithIndex\n",
    "        .filter(_._2 % dy == 0)\n",
    "        .map {case(row, r) => row((r / dy * dx) % width)}\n",
    "        .filter(_ == '#')\n",
    "        .size\n",
    "}\n",
    "\n",
    "countTrees(map, 3, 1)"
   ]
  },
  {
   "cell_type": "code",
   "execution_count": 5,
   "metadata": {},
   "outputs": [
    {
     "data": {
      "text/plain": [
       "\u001b[36mtreeCounts\u001b[39m: \u001b[32mList\u001b[39m[\u001b[32mInt\u001b[39m] = \u001b[33mList\u001b[39m(\u001b[32m64\u001b[39m, \u001b[32m259\u001b[39m, \u001b[32m65\u001b[39m, \u001b[32m59\u001b[39m, \u001b[32m35\u001b[39m)"
      ]
     },
     "execution_count": 5,
     "metadata": {},
     "output_type": "execute_result"
    }
   ],
   "source": [
    "val treeCounts = slopes.map{ case (dx, dy) => countTrees(map, dx, dy) }"
   ]
  },
  {
   "cell_type": "code",
   "execution_count": 6,
   "metadata": {},
   "outputs": [
    {
     "data": {
      "text/plain": [
       "\u001b[36mres5\u001b[39m: \u001b[32mLong\u001b[39m = \u001b[32m2224913600L\u001b[39m"
      ]
     },
     "execution_count": 6,
     "metadata": {},
     "output_type": "execute_result"
    }
   ],
   "source": [
    "treeCounts.map(_.toLong).reduce(_*_)"
   ]
  },
  {
   "cell_type": "code",
   "execution_count": null,
   "metadata": {},
   "outputs": [],
   "source": []
  },
  {
   "cell_type": "code",
   "execution_count": null,
   "metadata": {},
   "outputs": [],
   "source": []
  }
 ],
 "metadata": {
  "kernelspec": {
   "display_name": "Scala 2.12",
   "language": "scala",
   "name": "scala212"
  },
  "language_info": {
   "codemirror_mode": "text/x-scala",
   "file_extension": ".sc",
   "mimetype": "text/x-scala",
   "name": "scala",
   "nbconvert_exporter": "script",
   "version": "2.12.12"
  }
 },
 "nbformat": 4,
 "nbformat_minor": 4
}
