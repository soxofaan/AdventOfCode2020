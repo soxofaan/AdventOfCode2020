{
 "cells": [
  {
   "cell_type": "markdown",
   "metadata": {},
   "source": [
    "# Part 1"
   ]
  },
  {
   "cell_type": "markdown",
   "metadata": {},
   "source": [
    "Check for doubles."
   ]
  },
  {
   "cell_type": "code",
   "execution_count": 1,
   "metadata": {},
   "outputs": [
    {
     "data": {
      "text/plain": [
       "\u001b[36mres0\u001b[39m: \u001b[32mMap\u001b[39m[\u001b[32mString\u001b[39m, \u001b[32mList\u001b[39m[\u001b[32mString\u001b[39m]] = \u001b[33mMap\u001b[39m()"
      ]
     },
     "execution_count": 1,
     "metadata": {},
     "output_type": "execute_result"
    }
   ],
   "source": [
    "io.Source.fromFile(\"input\").getLines\n",
    "    .map(line => line.split(\"bag\", 2)(0)).toList\n",
    "    .groupBy(identity).filter(_._2.size > 1)"
   ]
  },
  {
   "cell_type": "code",
   "execution_count": 2,
   "metadata": {},
   "outputs": [
    {
     "data": {
      "text/plain": [
       "\u001b[36mruleRegex\u001b[39m: \u001b[32mscala\u001b[39m.\u001b[32mutil\u001b[39m.\u001b[32mmatching\u001b[39m.\u001b[32mRegex\u001b[39m = (\\w+ \\w+) bag\n",
       "\u001b[36mcontainRules\u001b[39m: \u001b[32mList\u001b[39m[(\u001b[32mString\u001b[39m, \u001b[32mSet\u001b[39m[\u001b[32mString\u001b[39m])] = \u001b[33mList\u001b[39m(\n",
       "  (\u001b[32m\"light chartreuse\"\u001b[39m, \u001b[33mSet\u001b[39m(\u001b[32m\"mirrored yellow\"\u001b[39m, \u001b[32m\"vibrant violet\"\u001b[39m)),\n",
       "  (\n",
       "    \u001b[32m\"dotted silver\"\u001b[39m,\n",
       "    \u001b[33mSet\u001b[39m(\u001b[32m\"dotted orange\"\u001b[39m, \u001b[32m\"bright fuchsia\"\u001b[39m, \u001b[32m\"bright tomato\"\u001b[39m, \u001b[32m\"faded turquoise\"\u001b[39m)\n",
       "  ),\n",
       "  (\u001b[32m\"plaid indigo\"\u001b[39m, \u001b[33mSet\u001b[39m(\u001b[32m\"pale violet\"\u001b[39m, \u001b[32m\"mirrored violet\"\u001b[39m)),\n",
       "  (\u001b[32m\"faded turquoise\"\u001b[39m, \u001b[33mSet\u001b[39m(\u001b[32m\"faded lavender\"\u001b[39m)),\n",
       "  (\u001b[32m\"striped yellow\"\u001b[39m, \u001b[33mSet\u001b[39m(\u001b[32m\"vibrant black\"\u001b[39m, \u001b[32m\"mirrored gold\"\u001b[39m)),\n",
       "  (\u001b[32m\"dull tan\"\u001b[39m, \u001b[33mSet\u001b[39m(\u001b[32m\"vibrant aqua\"\u001b[39m)),\n",
       "  (\u001b[32m\"striped brown\"\u001b[39m, \u001b[33mSet\u001b[39m(\u001b[32m\"vibrant orange\"\u001b[39m, \u001b[32m\"posh bronze\"\u001b[39m, \u001b[32m\"dim purple\"\u001b[39m)),\n",
       "  (\u001b[32m\"bright teal\"\u001b[39m, \u001b[33mSet\u001b[39m(\u001b[32m\"muted cyan\"\u001b[39m, \u001b[32m\"drab white\"\u001b[39m, \u001b[32m\"drab gray\"\u001b[39m)),\n",
       "  (\u001b[32m\"wavy tan\"\u001b[39m, \u001b[33mSet\u001b[39m(\u001b[32m\"wavy tomato\"\u001b[39m, \u001b[32m\"dim tan\"\u001b[39m)),\n",
       "  (\n",
       "    \u001b[32m\"light lavender\"\u001b[39m,\n",
       "    \u001b[33mSet\u001b[39m(\u001b[32m\"dotted black\"\u001b[39m, \u001b[32m\"wavy maroon\"\u001b[39m, \u001b[32m\"pale white\"\u001b[39m, \u001b[32m\"clear tan\"\u001b[39m)\n",
       "  ),\n",
       "  (\n",
       "    \u001b[32m\"dull orange\"\u001b[39m,\n",
       "    \u001b[33mSet\u001b[39m(\u001b[32m\"bright brown\"\u001b[39m, \u001b[32m\"muted gold\"\u001b[39m, \u001b[32m\"vibrant black\"\u001b[39m, \u001b[32m\"posh bronze\"\u001b[39m)\n",
       "  ),\n",
       "  (\n",
       "    \u001b[32m\"posh cyan\"\u001b[39m,\n",
       "    \u001b[33mSet\u001b[39m(\u001b[32m\"mirrored tomato\"\u001b[39m, \u001b[32m\"light salmon\"\u001b[39m, \u001b[32m\"faded brown\"\u001b[39m, \u001b[32m\"vibrant red\"\u001b[39m)\n",
       "  ),\n",
       "  (\u001b[32m\"dark lavender\"\u001b[39m, \u001b[33mSet\u001b[39m(\u001b[32m\"faded purple\"\u001b[39m)),\n",
       "  (\u001b[32m\"dark white\"\u001b[39m, \u001b[33mSet\u001b[39m(\u001b[32m\"muted green\"\u001b[39m)),\n",
       "  (\u001b[32m\"striped olive\"\u001b[39m, \u001b[33mSet\u001b[39m(\u001b[32m\"muted chartreuse\"\u001b[39m)),\n",
       "  (\n",
       "    \u001b[32m\"bright crimson\"\u001b[39m,\n",
       "    \u001b[33mSet\u001b[39m(\u001b[32m\"drab salmon\"\u001b[39m, \u001b[32m\"faded plum\"\u001b[39m, \u001b[32m\"shiny brown\"\u001b[39m, \u001b[32m\"pale orange\"\u001b[39m)\n",
       "  ),\n",
       "  (\u001b[32m\"dark tomato\"\u001b[39m, \u001b[33mSet\u001b[39m(\u001b[32m\"dim aqua\"\u001b[39m)),\n",
       "  (\u001b[32m\"light olive\"\u001b[39m, \u001b[33mSet\u001b[39m(\u001b[32m\"drab blue\"\u001b[39m, \u001b[32m\"plaid purple\"\u001b[39m)),\n",
       "  (\u001b[32m\"muted gray\"\u001b[39m, \u001b[33mSet\u001b[39m(\u001b[32m\"mirrored plum\"\u001b[39m)),\n",
       "  (\n",
       "    \u001b[32m\"bright salmon\"\u001b[39m,\n",
       "    \u001b[33mSet\u001b[39m(\u001b[32m\"striped plum\"\u001b[39m, \u001b[32m\"dull silver\"\u001b[39m, \u001b[32m\"striped indigo\"\u001b[39m, \u001b[32m\"striped cyan\"\u001b[39m)\n",
       "  ),\n",
       "...\n",
       "\u001b[36mres1_2\u001b[39m: \u001b[32mInt\u001b[39m = \u001b[32m594\u001b[39m"
      ]
     },
     "execution_count": 2,
     "metadata": {},
     "output_type": "execute_result"
    }
   ],
   "source": [
    "val ruleRegex = raw\"(\\w+ \\w+) bag\".r\n",
    "\n",
    "val containRules = io.Source.fromFile(\"input\").getLines\n",
    "    .map{line => {\n",
    "        val bags = ruleRegex.findAllMatchIn(line).map(_.group(1)).toList\n",
    "        bags.head -> bags.tail.toSet\n",
    "    }}.toList\n",
    "\n",
    "containRules.size"
   ]
  },
  {
   "cell_type": "markdown",
   "metadata": {},
   "source": [
    "Invert bag-container relationship to walk graph from `shiny gold` upstream."
   ]
  },
  {
   "cell_type": "code",
   "execution_count": 3,
   "metadata": {},
   "outputs": [
    {
     "data": {
      "text/plain": [
       "\u001b[36mdirectContainers\u001b[39m: \u001b[32mMap\u001b[39m[\u001b[32mString\u001b[39m, \u001b[32mSet\u001b[39m[\u001b[32mString\u001b[39m]] = \u001b[33mMap\u001b[39m(\n",
       "  \u001b[32m\"dull violet\"\u001b[39m -> \u001b[33mSet\u001b[39m(\n",
       "    \u001b[32m\"dark yellow\"\u001b[39m,\n",
       "    \u001b[32m\"posh teal\"\u001b[39m,\n",
       "    \u001b[32m\"dim magenta\"\u001b[39m,\n",
       "    \u001b[32m\"dull purple\"\u001b[39m,\n",
       "    \u001b[32m\"posh magenta\"\u001b[39m,\n",
       "    \u001b[32m\"mirrored silver\"\u001b[39m,\n",
       "    \u001b[32m\"wavy aqua\"\u001b[39m\n",
       "  ),\n",
       "  \u001b[32m\"mirrored red\"\u001b[39m -> \u001b[33mSet\u001b[39m(\u001b[32m\"muted silver\"\u001b[39m, \u001b[32m\"plaid lavender\"\u001b[39m),\n",
       "  \u001b[32m\"posh fuchsia\"\u001b[39m -> \u001b[33mSet\u001b[39m(\u001b[32m\"muted indigo\"\u001b[39m, \u001b[32m\"bright chartreuse\"\u001b[39m, \u001b[32m\"shiny tan\"\u001b[39m),\n",
       "  \u001b[32m\"dull salmon\"\u001b[39m -> \u001b[33mSet\u001b[39m(\u001b[32m\"plaid blue\"\u001b[39m, \u001b[32m\"dim turquoise\"\u001b[39m, \u001b[32m\"plaid orange\"\u001b[39m, \u001b[32m\"dark purple\"\u001b[39m),\n",
       "  \u001b[32m\"vibrant beige\"\u001b[39m -> \u001b[33mSet\u001b[39m(\u001b[32m\"dotted green\"\u001b[39m, \u001b[32m\"vibrant cyan\"\u001b[39m, \u001b[32m\"dim gold\"\u001b[39m),\n",
       "  \u001b[32m\"shiny yellow\"\u001b[39m -> \u001b[33mSet\u001b[39m(\u001b[32m\"vibrant silver\"\u001b[39m, \u001b[32m\"faded yellow\"\u001b[39m, \u001b[32m\"dotted brown\"\u001b[39m),\n",
       "  \u001b[32m\"wavy gray\"\u001b[39m -> \u001b[33mSet\u001b[39m(\u001b[32m\"plaid aqua\"\u001b[39m),\n",
       "  \u001b[32m\"dull blue\"\u001b[39m -> \u001b[33mSet\u001b[39m(\n",
       "    \u001b[32m\"striped crimson\"\u001b[39m,\n",
       "    \u001b[32m\"vibrant orange\"\u001b[39m,\n",
       "    \u001b[32m\"dull silver\"\u001b[39m,\n",
       "    \u001b[32m\"drab gold\"\u001b[39m,\n",
       "    \u001b[32m\"drab indigo\"\u001b[39m\n",
       "  ),\n",
       "  \u001b[32m\"striped indigo\"\u001b[39m -> \u001b[33mSet\u001b[39m(\n",
       "    \u001b[32m\"dark indigo\"\u001b[39m,\n",
       "    \u001b[32m\"dotted purple\"\u001b[39m,\n",
       "    \u001b[32m\"pale cyan\"\u001b[39m,\n",
       "    \u001b[32m\"striped beige\"\u001b[39m,\n",
       "    \u001b[32m\"dotted fuchsia\"\u001b[39m,\n",
       "    \u001b[32m\"bright salmon\"\u001b[39m,\n",
       "    \u001b[32m\"shiny fuchsia\"\u001b[39m,\n",
       "    \u001b[32m\"faded fuchsia\"\u001b[39m,\n",
       "    \u001b[32m\"clear tan\"\u001b[39m\n",
       "  ),\n",
       "  \u001b[32m\"plaid bronze\"\u001b[39m -> \u001b[33mSet\u001b[39m(\n",
       "    \u001b[32m\"dull yellow\"\u001b[39m,\n",
       "    \u001b[32m\"dark gray\"\u001b[39m,\n",
       "    \u001b[32m\"striped chartreuse\"\u001b[39m,\n",
       "...\n",
       "\u001b[36mres2_1\u001b[39m: \u001b[32mSet\u001b[39m[\u001b[32mString\u001b[39m] = \u001b[33mSet\u001b[39m(\n",
       "  \u001b[32m\"wavy coral\"\u001b[39m,\n",
       "  \u001b[32m\"plaid blue\"\u001b[39m,\n",
       "  \u001b[32m\"clear green\"\u001b[39m,\n",
       "  \u001b[32m\"dim salmon\"\u001b[39m,\n",
       "  \u001b[32m\"plaid cyan\"\u001b[39m,\n",
       "  \u001b[32m\"dark silver\"\u001b[39m,\n",
       "  \u001b[32m\"shiny brown\"\u001b[39m\n",
       ")"
      ]
     },
     "execution_count": 3,
     "metadata": {},
     "output_type": "execute_result"
    }
   ],
   "source": [
    "val directContainers = containRules\n",
    "    .flatMap{case (container, bags) => bags.map(_ -> container)}\n",
    "    .groupBy(_._1)\n",
    "    .map{case (bag, bcPairs) => bag -> bcPairs.map(_._2).toSet}\n",
    "\n",
    "directContainers(\"shiny gold\")"
   ]
  },
  {
   "cell_type": "markdown",
   "metadata": {},
   "source": [
    "Walk starting from `shiny gold` upstream and collect containers we visit."
   ]
  },
  {
   "cell_type": "code",
   "execution_count": 4,
   "metadata": {},
   "outputs": [
    {
     "data": {
      "text/html": [
       "<div class=\"jp-RenderedText\">\n",
       "<pre><code><span style=\"color: rgb(0, 187, 187)\"><span class=\"ansi-cyan-fg\">front</span></span>: <span style=\"color: rgb(0, 187, 0)\"><span class=\"ansi-green-fg\">Set</span></span>[<span style=\"color: rgb(0, 187, 0)\"><span class=\"ansi-green-fg\">String</span></span>] = <span style=\"color: yellow\"><span class=\"ansi-yellow-fg\">Set</span></span>()\n",
       "<span style=\"color: rgb(0, 187, 187)\"><span class=\"ansi-cyan-fg\">visited</span></span>: <span style=\"color: rgb(0, 187, 0)\"><span class=\"ansi-green-fg\">Set</span></span>[<span style=\"color: rgb(0, 187, 0)\"><span class=\"ansi-green-fg\">String</span></span>] = <span style=\"color: yellow\"><span class=\"ansi-yellow-fg\">Set</span></span>(\n",
       "  <span style=\"color: rgb(0, 187, 0)\"><span class=\"ansi-green-fg\">&quot;dull violet&quot;</span></span>,\n",
       "  <span style=\"color: rgb(0, 187, 0)\"><span class=\"ansi-green-fg\">&quot;mirrored red&quot;</span></span>,\n",
       "  <span style=\"color: rgb(0, 187, 0)\"><span class=\"ansi-green-fg\">&quot;vibrant beige&quot;</span></span>,\n",
       "  <span style=\"color: rgb(0, 187, 0)\"><span class=\"ansi-green-fg\">&quot;faded gray&quot;</span></span>,\n",
       "  <span style=\"color: rgb(0, 187, 0)\"><span class=\"ansi-green-fg\">&quot;dull blue&quot;</span></span>,\n",
       "  <span style=\"color: rgb(0, 187, 0)\"><span class=\"ansi-green-fg\">&quot;dull black&quot;</span></span>,\n",
       "  <span style=\"color: rgb(0, 187, 0)\"><span class=\"ansi-green-fg\">&quot;striped black&quot;</span></span>,\n",
       "  <span style=\"color: rgb(0, 187, 0)\"><span class=\"ansi-green-fg\">&quot;vibrant teal&quot;</span></span>,\n",
       "  <span style=\"color: rgb(0, 187, 0)\"><span class=\"ansi-green-fg\">&quot;vibrant lavender&quot;</span></span>,\n",
       "  <span style=\"color: rgb(0, 187, 0)\"><span class=\"ansi-green-fg\">&quot;bright lavender&quot;</span></span>,\n",
       "  <span style=\"color: rgb(0, 187, 0)\"><span class=\"ansi-green-fg\">&quot;posh black&quot;</span></span>,\n",
       "  <span style=\"color: rgb(0, 187, 0)\"><span class=\"ansi-green-fg\">&quot;pale magenta&quot;</span></span>,\n",
       "  <span style=\"color: rgb(0, 187, 0)\"><span class=\"ansi-green-fg\">&quot;drab bronze&quot;</span></span>,\n",
       "  <span style=\"color: rgb(0, 187, 0)\"><span class=\"ansi-green-fg\">&quot;clear aqua&quot;</span></span>,\n",
       "  <span style=\"color: rgb(0, 187, 0)\"><span class=\"ansi-green-fg\">&quot;muted teal&quot;</span></span>,\n",
       "  <span style=\"color: rgb(0, 187, 0)\"><span class=\"ansi-green-fg\">&quot;plaid orange&quot;</span></span>,\n",
       "  <span style=\"color: rgb(0, 187, 0)\"><span class=\"ansi-green-fg\">&quot;mirrored coral&quot;</span></span>,\n",
       "  <span style=\"color: rgb(0, 187, 0)\"><span class=\"ansi-green-fg\">&quot;dotted bronze&quot;</span></span>,\n",
       "  <span style=\"color: rgb(0, 187, 0)\"><span class=\"ansi-green-fg\">&quot;pale red&quot;</span></span>,\n",
       "  <span style=\"color: rgb(0, 187, 0)\"><span class=\"ansi-green-fg\">&quot;clear bronze&quot;</span></span>,\n",
       "  <span style=\"color: rgb(0, 187, 0)\"><span class=\"ansi-green-fg\">&quot;plaid olive&quot;</span></span>,\n",
       "  <span style=\"color: rgb(0, 187, 0)\"><span class=\"ansi-green-fg\">&quot;dull white&quot;</span></span>,\n",
       "  <span style=\"color: rgb(0, 187, 0)\"><span class=\"ansi-green-fg\">&quot;bright blue&quot;</span></span>,\n",
       "  <span style=\"color: rgb(0, 187, 0)\"><span class=\"ansi-green-fg\">&quot;dim coral&quot;</span></span>,\n",
       "  <span style=\"color: rgb(0, 187, 0)\"><span class=\"ansi-green-fg\">&quot;dotted violet&quot;</span></span>,\n",
       "  <span style=\"color: rgb(0, 187, 0)\"><span class=\"ansi-green-fg\">&quot;dark yellow&quot;</span></span>,\n",
       "  <span style=\"color: rgb(0, 187, 0)\"><span class=\"ansi-green-fg\">&quot;faded beige&quot;</span></span>,\n",
       "  <span style=\"color: rgb(0, 187, 0)\"><span class=\"ansi-green-fg\">&quot;light aqua&quot;</span></span>,\n",
       "  <span style=\"color: rgb(0, 187, 0)\"><span class=\"ansi-green-fg\">&quot;posh purple&quot;</span></span>,\n",
       "  <span style=\"color: rgb(0, 187, 0)\"><span class=\"ansi-green-fg\">&quot;muted tomato&quot;</span></span>,\n",
       "  <span style=\"color: rgb(0, 187, 0)\"><span class=\"ansi-green-fg\">&quot;shiny maroon&quot;</span></span>,\n",
       "  <span style=\"color: rgb(0, 187, 0)\"><span class=\"ansi-green-fg\">&quot;muted blue&quot;</span></span>,\n",
       "  <span style=\"color: rgb(0, 187, 0)\"><span class=\"ansi-green-fg\">&quot;dull indigo&quot;</span></span>,\n",
       "  <span style=\"color: rgb(0, 187, 0)\"><span class=\"ansi-green-fg\">&quot;posh teal&quot;</span></span>,\n",
       "  <span style=\"color: rgb(0, 187, 0)\"><span class=\"ansi-green-fg\">&quot;plaid yellow&quot;</span></span>,\n",
       "  <span style=\"color: rgb(0, 187, 0)\"><span class=\"ansi-green-fg\">&quot;wavy violet&quot;</span></span>,\n",
       "  <span style=\"color: rgb(0, 187, 0)\"><span class=\"ansi-green-fg\">&quot;dull teal&quot;</span></span>,\n",
       "  <span style=\"color: rgb(0, 187, 0)\"><span class=\"ansi-green-fg\">&quot;striped crimson&quot;</span></span>,\n",
       "...\n",
       "<span style=\"color: rgb(0, 187, 187)\"><span class=\"ansi-cyan-fg\">res3_3</span></span>: <span style=\"color: rgb(0, 187, 0)\"><span class=\"ansi-green-fg\">Int</span></span> = <span style=\"color: rgb(0, 187, 0)\"><span class=\"ansi-green-fg\">252</span></span></code></pre>\n",
       "</div>"
      ],
      "text/plain": [
       "\u001b[36mfront\u001b[39m: \u001b[32mSet\u001b[39m[\u001b[32mString\u001b[39m] = \u001b[33mSet\u001b[39m()\n",
       "\u001b[36mvisited\u001b[39m: \u001b[32mSet\u001b[39m[\u001b[32mString\u001b[39m] = \u001b[33mSet\u001b[39m(\n",
       "  \u001b[32m\"dull violet\"\u001b[39m,\n",
       "  \u001b[32m\"mirrored red\"\u001b[39m,\n",
       "  \u001b[32m\"vibrant beige\"\u001b[39m,\n",
       "  \u001b[32m\"faded gray\"\u001b[39m,\n",
       "  \u001b[32m\"dull blue\"\u001b[39m,\n",
       "  \u001b[32m\"dull black\"\u001b[39m,\n",
       "  \u001b[32m\"striped black\"\u001b[39m,\n",
       "  \u001b[32m\"vibrant teal\"\u001b[39m,\n",
       "  \u001b[32m\"vibrant lavender\"\u001b[39m,\n",
       "  \u001b[32m\"bright lavender\"\u001b[39m,\n",
       "  \u001b[32m\"posh black\"\u001b[39m,\n",
       "  \u001b[32m\"pale magenta\"\u001b[39m,\n",
       "  \u001b[32m\"drab bronze\"\u001b[39m,\n",
       "  \u001b[32m\"clear aqua\"\u001b[39m,\n",
       "  \u001b[32m\"muted teal\"\u001b[39m,\n",
       "  \u001b[32m\"plaid orange\"\u001b[39m,\n",
       "  \u001b[32m\"mirrored coral\"\u001b[39m,\n",
       "  \u001b[32m\"dotted bronze\"\u001b[39m,\n",
       "  \u001b[32m\"pale red\"\u001b[39m,\n",
       "  \u001b[32m\"clear bronze\"\u001b[39m,\n",
       "  \u001b[32m\"plaid olive\"\u001b[39m,\n",
       "  \u001b[32m\"dull white\"\u001b[39m,\n",
       "  \u001b[32m\"bright blue\"\u001b[39m,\n",
       "  \u001b[32m\"dim coral\"\u001b[39m,\n",
       "  \u001b[32m\"dotted violet\"\u001b[39m,\n",
       "  \u001b[32m\"dark yellow\"\u001b[39m,\n",
       "  \u001b[32m\"faded beige\"\u001b[39m,\n",
       "  \u001b[32m\"light aqua\"\u001b[39m,\n",
       "  \u001b[32m\"posh purple\"\u001b[39m,\n",
       "  \u001b[32m\"muted tomato\"\u001b[39m,\n",
       "  \u001b[32m\"shiny maroon\"\u001b[39m,\n",
       "  \u001b[32m\"muted blue\"\u001b[39m,\n",
       "  \u001b[32m\"dull indigo\"\u001b[39m,\n",
       "  \u001b[32m\"posh teal\"\u001b[39m,\n",
       "  \u001b[32m\"plaid yellow\"\u001b[39m,\n",
       "  \u001b[32m\"wavy violet\"\u001b[39m,\n",
       "  \u001b[32m\"dull teal\"\u001b[39m,\n",
       "  \u001b[32m\"striped crimson\"\u001b[39m,\n",
       "...\n",
       "\u001b[36mres3_3\u001b[39m: \u001b[32mInt\u001b[39m = \u001b[32m252\u001b[39m"
      ]
     },
     "metadata": {},
     "output_type": "display_data"
    }
   ],
   "source": [
    "var front = Set(\"shiny gold\")\n",
    "var visited = Set[String]()\n",
    "\n",
    "while (front.nonEmpty) {\n",
    "    val candidates = front.flatMap(directContainers.getOrElse(_, Set()))\n",
    "    visited ++= front\n",
    "    front = candidates -- visited\n",
    "}\n",
    "\n",
    "(visited - \"shiny gold\").size"
   ]
  },
  {
   "cell_type": "markdown",
   "metadata": {},
   "source": [
    "# Part 2"
   ]
  },
  {
   "cell_type": "code",
   "execution_count": 5,
   "metadata": {},
   "outputs": [
    {
     "data": {
      "text/plain": [
       "\u001b[36mruleRegex\u001b[39m: \u001b[32mscala\u001b[39m.\u001b[32mutil\u001b[39m.\u001b[32mmatching\u001b[39m.\u001b[32mRegex\u001b[39m = (\\w+ \\w+) bags contain (.*)\n",
       "\u001b[36mbagRegex\u001b[39m: \u001b[32mscala\u001b[39m.\u001b[32mutil\u001b[39m.\u001b[32mmatching\u001b[39m.\u001b[32mRegex\u001b[39m = (\\d+) (\\w+ \\w+) bag\n",
       "\u001b[36mcontainRules\u001b[39m: \u001b[32mMap\u001b[39m[\u001b[32mString\u001b[39m, \u001b[32mMap\u001b[39m[\u001b[32mString\u001b[39m, \u001b[32mInt\u001b[39m]] = \u001b[33mMap\u001b[39m(\n",
       "  \u001b[32m\"dull violet\"\u001b[39m -> \u001b[33mMap\u001b[39m(\n",
       "    \u001b[32m\"posh coral\"\u001b[39m -> \u001b[32m5\u001b[39m,\n",
       "    \u001b[32m\"shiny red\"\u001b[39m -> \u001b[32m5\u001b[39m,\n",
       "    \u001b[32m\"drab gold\"\u001b[39m -> \u001b[32m5\u001b[39m,\n",
       "    \u001b[32m\"posh white\"\u001b[39m -> \u001b[32m4\u001b[39m\n",
       "  ),\n",
       "  \u001b[32m\"mirrored red\"\u001b[39m -> \u001b[33mMap\u001b[39m(\u001b[32m\"striped gold\"\u001b[39m -> \u001b[32m3\u001b[39m, \u001b[32m\"mirrored gray\"\u001b[39m -> \u001b[32m1\u001b[39m),\n",
       "  \u001b[32m\"posh fuchsia\"\u001b[39m -> \u001b[33mMap\u001b[39m(\u001b[32m\"wavy gold\"\u001b[39m -> \u001b[32m1\u001b[39m, \u001b[32m\"vibrant plum\"\u001b[39m -> \u001b[32m1\u001b[39m, \u001b[32m\"posh white\"\u001b[39m -> \u001b[32m3\u001b[39m),\n",
       "  \u001b[32m\"dull salmon\"\u001b[39m -> \u001b[33mMap\u001b[39m(\n",
       "    \u001b[32m\"muted coral\"\u001b[39m -> \u001b[32m5\u001b[39m,\n",
       "    \u001b[32m\"muted brown\"\u001b[39m -> \u001b[32m2\u001b[39m,\n",
       "    \u001b[32m\"striped coral\"\u001b[39m -> \u001b[32m2\u001b[39m,\n",
       "    \u001b[32m\"dark white\"\u001b[39m -> \u001b[32m5\u001b[39m\n",
       "  ),\n",
       "  \u001b[32m\"vibrant beige\"\u001b[39m -> \u001b[33mMap\u001b[39m(\n",
       "    \u001b[32m\"pale crimson\"\u001b[39m -> \u001b[32m2\u001b[39m,\n",
       "    \u001b[32m\"pale olive\"\u001b[39m -> \u001b[32m5\u001b[39m,\n",
       "    \u001b[32m\"posh yellow\"\u001b[39m -> \u001b[32m4\u001b[39m,\n",
       "    \u001b[32m\"dotted orange\"\u001b[39m -> \u001b[32m3\u001b[39m\n",
       "  ),\n",
       "  \u001b[32m\"dim green\"\u001b[39m -> \u001b[33mMap\u001b[39m(\n",
       "    \u001b[32m\"striped lime\"\u001b[39m -> \u001b[32m5\u001b[39m,\n",
       "    \u001b[32m\"bright gold\"\u001b[39m -> \u001b[32m4\u001b[39m,\n",
       "    \u001b[32m\"vibrant violet\"\u001b[39m -> \u001b[32m2\u001b[39m,\n",
       "    \u001b[32m\"muted beige\"\u001b[39m -> \u001b[32m2\u001b[39m\n",
       "  ),\n",
       "  \u001b[32m\"shiny yellow\"\u001b[39m -> \u001b[33mMap\u001b[39m(\u001b[32m\"dim purple\"\u001b[39m -> \u001b[32m3\u001b[39m),\n",
       "  \u001b[32m\"faded gray\"\u001b[39m -> \u001b[33mMap\u001b[39m(\n",
       "    \u001b[32m\"bright maroon\"\u001b[39m -> \u001b[32m3\u001b[39m,\n",
       "    \u001b[32m\"shiny crimson\"\u001b[39m -> \u001b[32m2\u001b[39m,\n",
       "    \u001b[32m\"plaid lavender\"\u001b[39m -> \u001b[32m2\u001b[39m\n",
       "  ),\n",
       "  \u001b[32m\"wavy gray\"\u001b[39m -> \u001b[33mMap\u001b[39m(\n",
       "    \u001b[32m\"mirrored fuchsia\"\u001b[39m -> \u001b[32m2\u001b[39m,\n",
       "    \u001b[32m\"mirrored chartreuse\"\u001b[39m -> \u001b[32m2\u001b[39m,\n",
       "    \u001b[32m\"mirrored blue\"\u001b[39m -> \u001b[32m3\u001b[39m\n",
       "  ),\n",
       "..."
      ]
     },
     "execution_count": 5,
     "metadata": {},
     "output_type": "execute_result"
    }
   ],
   "source": [
    "val ruleRegex = raw\"(\\w+ \\w+) bags contain (.*)\".r\n",
    "val bagRegex = raw\"(\\d+) (\\w+ \\w+) bag\".r\n",
    "\n",
    "\n",
    "val containRules = io.Source.fromFile(\"input\").getLines\n",
    "    .map{\n",
    "        case ruleRegex(color, content) \n",
    "        => color -> bagRegex.findAllMatchIn(content).map{m => m.group(2) -> m.group(1).toInt }.toMap\n",
    "    }\n",
    "    .toMap"
   ]
  },
  {
   "cell_type": "code",
   "execution_count": 6,
   "metadata": {},
   "outputs": [
    {
     "data": {
      "text/plain": [
       "defined \u001b[32mfunction\u001b[39m \u001b[36mcountBags\u001b[39m"
      ]
     },
     "execution_count": 6,
     "metadata": {},
     "output_type": "execute_result"
    }
   ],
   "source": [
    "def countBags(bag: String, rules: Map[String, Map[String, Int]]): Int = {\n",
    "    rules.getOrElse(bag, Map()).map{case (b, c) => c * (1 + countBags(b, rules))}.sum\n",
    "}"
   ]
  },
  {
   "cell_type": "code",
   "execution_count": 7,
   "metadata": {},
   "outputs": [
    {
     "data": {
      "text/plain": [
       "\u001b[36mres6\u001b[39m: \u001b[32mInt\u001b[39m = \u001b[32m35487\u001b[39m"
      ]
     },
     "execution_count": 7,
     "metadata": {},
     "output_type": "execute_result"
    }
   ],
   "source": [
    "countBags(\"shiny gold\", containRules)"
   ]
  },
  {
   "cell_type": "code",
   "execution_count": null,
   "metadata": {},
   "outputs": [],
   "source": []
  }
 ],
 "metadata": {
  "kernelspec": {
   "display_name": "Scala 2.12",
   "language": "scala",
   "name": "scala212"
  },
  "language_info": {
   "codemirror_mode": "text/x-scala",
   "file_extension": ".sc",
   "mimetype": "text/x-scala",
   "name": "scala",
   "nbconvert_exporter": "script",
   "version": "2.12.12"
  }
 },
 "nbformat": 4,
 "nbformat_minor": 4
}
