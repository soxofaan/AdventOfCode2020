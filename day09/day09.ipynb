{
 "cells": [
  {
   "cell_type": "markdown",
   "metadata": {},
   "source": [
    "# Part 1"
   ]
  },
  {
   "cell_type": "code",
   "execution_count": 1,
   "metadata": {},
   "outputs": [
    {
     "data": {
      "text/plain": [
       "\u001b[36mnumbers\u001b[39m: \u001b[32mArray\u001b[39m[\u001b[32mLong\u001b[39m] = \u001b[33mArray\u001b[39m(\n",
       "  \u001b[32m33L\u001b[39m,\n",
       "  \u001b[32m42L\u001b[39m,\n",
       "  \u001b[32m23L\u001b[39m,\n",
       "  \u001b[32m38L\u001b[39m,\n",
       "  \u001b[32m45L\u001b[39m,\n",
       "  \u001b[32m20L\u001b[39m,\n",
       "  \u001b[32m48L\u001b[39m,\n",
       "  \u001b[32m21L\u001b[39m,\n",
       "  \u001b[32m30L\u001b[39m,\n",
       "  \u001b[32m49L\u001b[39m,\n",
       "  \u001b[32m5L\u001b[39m,\n",
       "  \u001b[32m25L\u001b[39m,\n",
       "  \u001b[32m35L\u001b[39m,\n",
       "  \u001b[32m39L\u001b[39m,\n",
       "  \u001b[32m27L\u001b[39m,\n",
       "  \u001b[32m31L\u001b[39m,\n",
       "  \u001b[32m8L\u001b[39m,\n",
       "  \u001b[32m16L\u001b[39m,\n",
       "  \u001b[32m36L\u001b[39m,\n",
       "  \u001b[32m2L\u001b[39m,\n",
       "  \u001b[32m41L\u001b[39m,\n",
       "  \u001b[32m1L\u001b[39m,\n",
       "  \u001b[32m9L\u001b[39m,\n",
       "  \u001b[32m4L\u001b[39m,\n",
       "  \u001b[32m34L\u001b[39m,\n",
       "  \u001b[32m3L\u001b[39m,\n",
       "  \u001b[32m7L\u001b[39m,\n",
       "  \u001b[32m6L\u001b[39m,\n",
       "  \u001b[32m33L\u001b[39m,\n",
       "  \u001b[32m10L\u001b[39m,\n",
       "  \u001b[32m11L\u001b[39m,\n",
       "  \u001b[32m12L\u001b[39m,\n",
       "  \u001b[32m13L\u001b[39m,\n",
       "  \u001b[32m14L\u001b[39m,\n",
       "  \u001b[32m15L\u001b[39m,\n",
       "  \u001b[32m17L\u001b[39m,\n",
       "  \u001b[32m20L\u001b[39m,\n",
       "  \u001b[32m24L\u001b[39m,\n",
       "...\n",
       "\u001b[36mres0_1\u001b[39m: \u001b[32mInt\u001b[39m = \u001b[32m1000\u001b[39m"
      ]
     },
     "execution_count": 1,
     "metadata": {},
     "output_type": "execute_result"
    }
   ],
   "source": [
    "val numbers = io.Source.fromFile(\"input\").getLines.map(_.toLong).toArray\n",
    "numbers.size"
   ]
  },
  {
   "cell_type": "code",
   "execution_count": 2,
   "metadata": {},
   "outputs": [
    {
     "data": {
      "text/plain": [
       "defined \u001b[32mfunction\u001b[39m \u001b[36mfindInvalid\u001b[39m"
      ]
     },
     "execution_count": 2,
     "metadata": {},
     "output_type": "execute_result"
    }
   ],
   "source": [
    "def findInvalid(numbers: Array[Long], window: Int): Option[Long] = {\n",
    "    for (i <- window until numbers.size) {\n",
    "        val sums = for (\n",
    "            j <- i - window until i;\n",
    "            k <- j + 1 until i\n",
    "        )\n",
    "            yield numbers(j) + numbers(k)\n",
    "        if (!(sums contains numbers(i))) {\n",
    "            return Some(numbers(i))\n",
    "        }\n",
    "    }\n",
    "    None\n",
    "}"
   ]
  },
  {
   "cell_type": "code",
   "execution_count": 3,
   "metadata": {},
   "outputs": [
    {
     "data": {
      "text/plain": [
       "\u001b[36mres2\u001b[39m: \u001b[32mOption\u001b[39m[\u001b[32mLong\u001b[39m] = \u001b[33mSome\u001b[39m(\u001b[32m127L\u001b[39m)"
      ]
     },
     "execution_count": 3,
     "metadata": {},
     "output_type": "execute_result"
    }
   ],
   "source": [
    "findInvalid(Array(35,20,15,25,47,40,62,55,65,95,102,117,150,182,127,219,299,277,309,576), 5)"
   ]
  },
  {
   "cell_type": "code",
   "execution_count": 4,
   "metadata": {},
   "outputs": [
    {
     "data": {
      "text/plain": [
       "\u001b[36mres3\u001b[39m: \u001b[32mOption\u001b[39m[\u001b[32mLong\u001b[39m] = \u001b[33mSome\u001b[39m(\u001b[32m57195069L\u001b[39m)"
      ]
     },
     "execution_count": 4,
     "metadata": {},
     "output_type": "execute_result"
    }
   ],
   "source": [
    "findInvalid(numbers, 25)"
   ]
  },
  {
   "cell_type": "markdown",
   "metadata": {},
   "source": [
    "# Part 2"
   ]
  },
  {
   "cell_type": "code",
   "execution_count": 5,
   "metadata": {},
   "outputs": [
    {
     "data": {
      "text/plain": [
       "defined \u001b[32mfunction\u001b[39m \u001b[36mfindSubSet\u001b[39m"
      ]
     },
     "execution_count": 5,
     "metadata": {},
     "output_type": "execute_result"
    }
   ],
   "source": [
    "def findSubSet(numbers: Array[Long], target: Long): Option[Array[Long]] = {\n",
    "    for (i <- 0 until numbers.size - 1) {\n",
    "        var sum = numbers(i)\n",
    "        var j = i + 1\n",
    "        while (sum < target) {\n",
    "            sum += numbers(j)\n",
    "            if (sum == target) {\n",
    "                return Some(numbers.slice(i, j+1))\n",
    "            }\n",
    "            j += 1\n",
    "        }\n",
    "    }\n",
    "    None\n",
    "}"
   ]
  },
  {
   "cell_type": "code",
   "execution_count": 6,
   "metadata": {},
   "outputs": [
    {
     "data": {
      "text/plain": [
       "\u001b[36mres5\u001b[39m: \u001b[32mOption\u001b[39m[\u001b[32mArray\u001b[39m[\u001b[32mLong\u001b[39m]] = \u001b[33mSome\u001b[39m(\u001b[33mArray\u001b[39m(\u001b[32m15L\u001b[39m, \u001b[32m25L\u001b[39m, \u001b[32m47L\u001b[39m, \u001b[32m40L\u001b[39m))"
      ]
     },
     "execution_count": 6,
     "metadata": {},
     "output_type": "execute_result"
    }
   ],
   "source": [
    "findSubSet(\n",
    "    Array(35,20,15,25,47,40,62,55,65,95,102,117,150,182,127,219,299,277,309,576),\n",
    "    127\n",
    ")"
   ]
  },
  {
   "cell_type": "code",
   "execution_count": 7,
   "metadata": {},
   "outputs": [
    {
     "data": {
      "text/plain": [
       "\u001b[36mres\u001b[39m: \u001b[32mOption\u001b[39m[\u001b[32mArray\u001b[39m[\u001b[32mLong\u001b[39m]] = \u001b[33mSome\u001b[39m(\n",
       "  \u001b[33mArray\u001b[39m(\n",
       "    \u001b[32m3204444L\u001b[39m,\n",
       "    \u001b[32m2173398L\u001b[39m,\n",
       "    \u001b[32m2458349L\u001b[39m,\n",
       "    \u001b[32m2954632L\u001b[39m,\n",
       "    \u001b[32m3840898L\u001b[39m,\n",
       "    \u001b[32m2963655L\u001b[39m,\n",
       "    \u001b[32m2955986L\u001b[39m,\n",
       "    \u001b[32m3558383L\u001b[39m,\n",
       "    \u001b[32m2709364L\u001b[39m,\n",
       "    \u001b[32m5235843L\u001b[39m,\n",
       "    \u001b[32m3276412L\u001b[39m,\n",
       "    \u001b[32m2745070L\u001b[39m,\n",
       "    \u001b[32m2798952L\u001b[39m,\n",
       "    \u001b[32m3214700L\u001b[39m,\n",
       "    \u001b[32m5160364L\u001b[39m,\n",
       "    \u001b[32m3946784L\u001b[39m,\n",
       "    \u001b[32m3997835L\u001b[39m\n",
       "  )\n",
       ")"
      ]
     },
     "execution_count": 7,
     "metadata": {},
     "output_type": "execute_result"
    }
   ],
   "source": [
    "val res = findSubSet(numbers, 57195069)"
   ]
  },
  {
   "cell_type": "code",
   "execution_count": 8,
   "metadata": {},
   "outputs": [
    {
     "data": {
      "text/plain": [
       "\u001b[36mres7\u001b[39m: \u001b[32mLong\u001b[39m = \u001b[32m7409241L\u001b[39m"
      ]
     },
     "execution_count": 8,
     "metadata": {},
     "output_type": "execute_result"
    }
   ],
   "source": [
    "res.get.min + res.get.max"
   ]
  },
  {
   "cell_type": "code",
   "execution_count": null,
   "metadata": {},
   "outputs": [],
   "source": []
  }
 ],
 "metadata": {
  "kernelspec": {
   "display_name": "Scala 2.12",
   "language": "scala",
   "name": "scala212"
  },
  "language_info": {
   "codemirror_mode": "text/x-scala",
   "file_extension": ".sc",
   "mimetype": "text/x-scala",
   "name": "scala",
   "nbconvert_exporter": "script",
   "version": "2.12.12"
  }
 },
 "nbformat": 4,
 "nbformat_minor": 4
}
