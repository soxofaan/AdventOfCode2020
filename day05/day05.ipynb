{
 "cells": [
  {
   "cell_type": "markdown",
   "metadata": {},
   "source": [
    "# Part 1"
   ]
  },
  {
   "cell_type": "code",
   "execution_count": 1,
   "metadata": {},
   "outputs": [
    {
     "data": {
      "text/plain": [
       "defined \u001b[32mfunction\u001b[39m \u001b[36mgetSeatId\u001b[39m\n",
       "\u001b[36mres0_1\u001b[39m: \u001b[32mInt\u001b[39m = \u001b[32m567\u001b[39m"
      ]
     },
     "execution_count": 1,
     "metadata": {},
     "output_type": "execute_result"
    }
   ],
   "source": [
    "def getSeatId(code: String): Int = {\n",
    "    code.foldLeft(0)((a, c) => a * 2 + (if (\"BR\".contains(c)) 1 else 0))\n",
    "}\n",
    "\n",
    "getSeatId(\"BFFFBBFRRR\")"
   ]
  },
  {
   "cell_type": "code",
   "execution_count": 2,
   "metadata": {},
   "outputs": [
    {
     "data": {
      "text/plain": [
       "\u001b[36mres1\u001b[39m: \u001b[32mInt\u001b[39m = \u001b[32m987\u001b[39m"
      ]
     },
     "execution_count": 2,
     "metadata": {},
     "output_type": "execute_result"
    }
   ],
   "source": [
    "io.Source.fromFile(\"input\").getLines.map(getSeatId).max"
   ]
  },
  {
   "cell_type": "markdown",
   "metadata": {},
   "source": [
    "# Part 2"
   ]
  },
  {
   "cell_type": "code",
   "execution_count": 3,
   "metadata": {},
   "outputs": [
    {
     "data": {
      "text/plain": [
       "\u001b[36mseatIds\u001b[39m: \u001b[32mList\u001b[39m[\u001b[32mInt\u001b[39m] = \u001b[33mList\u001b[39m(\n",
       "  \u001b[32m96\u001b[39m,\n",
       "  \u001b[32m97\u001b[39m,\n",
       "  \u001b[32m98\u001b[39m,\n",
       "  \u001b[32m99\u001b[39m,\n",
       "  \u001b[32m100\u001b[39m,\n",
       "  \u001b[32m101\u001b[39m,\n",
       "  \u001b[32m102\u001b[39m,\n",
       "  \u001b[32m103\u001b[39m,\n",
       "  \u001b[32m104\u001b[39m,\n",
       "  \u001b[32m105\u001b[39m,\n",
       "  \u001b[32m106\u001b[39m,\n",
       "  \u001b[32m107\u001b[39m,\n",
       "  \u001b[32m108\u001b[39m,\n",
       "  \u001b[32m109\u001b[39m,\n",
       "  \u001b[32m110\u001b[39m,\n",
       "  \u001b[32m111\u001b[39m,\n",
       "  \u001b[32m112\u001b[39m,\n",
       "  \u001b[32m113\u001b[39m,\n",
       "  \u001b[32m114\u001b[39m,\n",
       "  \u001b[32m115\u001b[39m,\n",
       "  \u001b[32m116\u001b[39m,\n",
       "  \u001b[32m117\u001b[39m,\n",
       "  \u001b[32m118\u001b[39m,\n",
       "  \u001b[32m119\u001b[39m,\n",
       "  \u001b[32m120\u001b[39m,\n",
       "  \u001b[32m121\u001b[39m,\n",
       "  \u001b[32m122\u001b[39m,\n",
       "  \u001b[32m123\u001b[39m,\n",
       "  \u001b[32m124\u001b[39m,\n",
       "  \u001b[32m125\u001b[39m,\n",
       "  \u001b[32m126\u001b[39m,\n",
       "  \u001b[32m127\u001b[39m,\n",
       "  \u001b[32m128\u001b[39m,\n",
       "  \u001b[32m129\u001b[39m,\n",
       "  \u001b[32m130\u001b[39m,\n",
       "  \u001b[32m131\u001b[39m,\n",
       "  \u001b[32m132\u001b[39m,\n",
       "  \u001b[32m133\u001b[39m,\n",
       "..."
      ]
     },
     "execution_count": 3,
     "metadata": {},
     "output_type": "execute_result"
    }
   ],
   "source": [
    "val seatIds = io.Source.fromFile(\"input\").getLines.map(getSeatId).toList.sorted"
   ]
  },
  {
   "cell_type": "code",
   "execution_count": 4,
   "metadata": {},
   "outputs": [
    {
     "data": {
      "text/plain": [
       "\u001b[36mres3\u001b[39m: \u001b[32mList\u001b[39m[(\u001b[32mInt\u001b[39m, \u001b[32mInt\u001b[39m)] = \u001b[33mList\u001b[39m((\u001b[32m602\u001b[39m, \u001b[32m604\u001b[39m))"
      ]
     },
     "execution_count": 4,
     "metadata": {},
     "output_type": "execute_result"
    }
   ],
   "source": [
    "seatIds.zip(seatIds.tail).filter{case (a, b) => b - a != 1}"
   ]
  },
  {
   "cell_type": "code",
   "execution_count": null,
   "metadata": {},
   "outputs": [],
   "source": []
  },
  {
   "cell_type": "code",
   "execution_count": null,
   "metadata": {},
   "outputs": [],
   "source": []
  }
 ],
 "metadata": {
  "kernelspec": {
   "display_name": "Scala 2.12",
   "language": "scala",
   "name": "scala212"
  },
  "language_info": {
   "codemirror_mode": "text/x-scala",
   "file_extension": ".sc",
   "mimetype": "text/x-scala",
   "name": "scala",
   "nbconvert_exporter": "script",
   "version": "2.12.12"
  }
 },
 "nbformat": 4,
 "nbformat_minor": 4
}
